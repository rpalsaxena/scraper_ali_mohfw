{
 "cells": [
  {
   "cell_type": "code",
   "execution_count": 4,
   "metadata": {},
   "outputs": [],
   "source": [
    "f = open(r\"abc.json\", \"r+\")\n",
    "data = []\n",
    "for i in f:\n",
    "    data.append(i)\n",
    "data.insert(0, '{ \\n \"statedata\" :')\n",
    "data.insert(len(data)+1, \"}\")\n",
    "with open(r\"state_data.json\", 'w') as f:\n",
    "    for item in data:\n",
    "        f.write(\"%s\\n\" % item)\n",
    "!rm abc.json"
   ]
  },
  {
   "cell_type": "code",
   "execution_count": 5,
   "metadata": {},
   "outputs": [],
   "source": []
  },
  {
   "cell_type": "code",
   "execution_count": null,
   "metadata": {},
   "outputs": [],
   "source": []
  }
 ],
 "metadata": {
  "kernelspec": {
   "display_name": "Python 3",
   "language": "python",
   "name": "python3"
  },
  "language_info": {
   "codemirror_mode": {
    "name": "ipython",
    "version": 3
   },
   "file_extension": ".py",
   "mimetype": "text/x-python",
   "name": "python",
   "nbconvert_exporter": "python",
   "pygments_lexer": "ipython3",
   "version": "3.7.4"
  }
 },
 "nbformat": 4,
 "nbformat_minor": 2
}
